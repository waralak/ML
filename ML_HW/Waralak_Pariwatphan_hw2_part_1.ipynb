{
  "cells": [
    {
      "cell_type": "markdown",
      "id": "approved-psychology",
      "metadata": {
        "id": "approved-psychology"
      },
      "source": [
        "# Home Assignment No. 2 - part one\n",
        "\n",
        "To solve this task, you will write a lot of code to try several machine learning methods for classification and regression.\n",
        "* You are **HIGHLY RECOMMENDED** to read relevant documentation, e.g. for [python](https://docs.python.org/3/), [numpy](https://docs.scipy.org/doc/numpy/reference/), [matlpotlib](https://matplotlib.org/) and [sklearn](https://scikit-learn.org/stable/). Also remember that seminars, lecture slides, [Google](http://google.com) and [StackOverflow](https://stackoverflow.com/) are your close friends during this course (and, probably, whole life?).\n",
        "\n",
        "* If you want an easy life, you have to use **BUILT-IN METHODS** of `sklearn` library instead of writing tons of your own code. There exists a class/method for almost everything you can imagine (related to this homework).\n",
        "\n",
        "* You have to write **CODE** directly inside specified places marked by comments: **BEGIN/END Solution**. Do not create new cells.\n",
        "\n",
        "* In some problems you are asked to provide a short discussion of the results. For that find the specific place marked via **Your text answer: \\<write your answer\\>**.\n",
        "\n",
        "* For every separate problem or subproblem (if specified) you can get only 0 points or maximal points for this problem. There are **NO INTERMEDIATE scores**. So make sure that you did everything required in the task.\n",
        "\n",
        "* Your **SOLUTION** notebook **MUST BE REPRODUCIBLE**, i.e., if the reviewer decides to restart the notebook and run all cells, after all the computation he will obtain exactly the same solution (with all the corresponding plots) as in your uploaded notebook. For this purpose, we suggest fixing random `seed` or (better) define `random_state=` inside every algorithm that uses some pseudorandomness.\n",
        "\n",
        "* Your code must be clear to the reviewer. For this purpose, try to include necessary comments inside the code. But remember: **GOOD CODE MUST BE SELF-EXPLANATORY** without any additional comments.\n",
        "\n",
        "* Many `sklearn` algorithms support multithreading (Ensemble Methods, Cross-Validation, etc.). Check if the particular algorithm has `n_jobs` parameters and set it to `-1` to use all the cores.\n"
      ]
    },
    {
      "cell_type": "code",
      "execution_count": 1,
      "id": "cooperative-spokesman",
      "metadata": {
        "id": "cooperative-spokesman"
      },
      "outputs": [],
      "source": [
        "import numpy as np\n",
        "import sklearn\n",
        "from sklearn.model_selection import train_test_split\n",
        "import pandas as pd\n",
        "import matplotlib.pyplot as plt\n",
        "from sklearn.model_selection import cross_val_score\n",
        "%matplotlib inline"
      ]
    },
    {
      "cell_type": "code",
      "execution_count": 2,
      "id": "noted-bridal",
      "metadata": {
        "id": "noted-bridal"
      },
      "outputs": [],
      "source": [
        "import warnings\n",
        "warnings.filterwarnings(\"ignore\")"
      ]
    },
    {
      "cell_type": "markdown",
      "id": "guilty-contamination",
      "metadata": {
        "id": "guilty-contamination"
      },
      "source": [
        "## Task 1. Model and feature selection problem (3 points)\n",
        "\n",
        "Your goal in this task is to predict the price (```price_doc```) given some characteristics of a house. In order to do that, you will demonstrate your abilities in data preprocessing, finding feature importances, applying different ML models."
      ]
    },
    {
      "cell_type": "markdown",
      "id": "friendly-review",
      "metadata": {
        "id": "friendly-review"
      },
      "source": [
        "### Subproblem 1.1. Data preprocessing and feauture importances (1 point)\n",
        "\n",
        "The goal of this subproblem is to prepare the data for further usage. Complete all of the following subtasks:"
      ]
    },
    {
      "cell_type": "markdown",
      "id": "rational-reggae",
      "metadata": {
        "id": "rational-reggae"
      },
      "source": [
        "**1.1.1) load the dataset**"
      ]
    },
    {
      "cell_type": "code",
      "execution_count": null,
      "id": "nutritional-phoenix",
      "metadata": {
        "id": "nutritional-phoenix"
      },
      "outputs": [],
      "source": [
        "### BEGIN Solution (do not delete this comment)\n",
        "\n",
        "data = pd.read_csv('data_fs.csv')\n",
        "\n",
        "### END Solution (do not delete this comment)"
      ]
    },
    {
      "cell_type": "markdown",
      "id": "objective-working",
      "metadata": {
        "id": "objective-working"
      },
      "source": [
        "**1.1.2) preprocess the dataset by dropping the ```timestamp``` feature, filling ```NaN```s with 0, converting the categorical variables into dummy variables**"
      ]
    },
    {
      "cell_type": "code",
      "execution_count": null,
      "id": "another-keyboard",
      "metadata": {
        "id": "another-keyboard"
      },
      "outputs": [],
      "source": [
        "### BEGIN Solution (do not delete this comment)\n",
        "\n",
        "data = data.drop(\"timestamp\", axis=1)\n",
        "data = data.fillna(0)\n",
        "data = pd.get_dummies(data)\n",
        "\n",
        "### END Solution (do not delete this comment)"
      ]
    },
    {
      "cell_type": "markdown",
      "id": "dress-shanghai",
      "metadata": {
        "id": "dress-shanghai"
      },
      "source": [
        "**1.1.3) define ```x_train```, ```x_test```, ```y_train```, ```y_test```. The train-test split should be 70:30**\n"
      ]
    },
    {
      "cell_type": "code",
      "execution_count": null,
      "id": "outdoor-runner",
      "metadata": {
        "id": "outdoor-runner"
      },
      "outputs": [],
      "source": [
        "### BEGIN Solution (do not delete this comment)\n",
        "\n",
        "y = data['price_doc']\n",
        "x = data.drop(['price_doc'], axis=1)\n",
        "\n",
        "x_train, x_test, y_train, y_test = train_test_split(x, y, test_size=0.3, random_state=0)\n",
        "\n",
        "### END Solution (do not delete this comment)"
      ]
    },
    {
      "cell_type": "markdown",
      "id": "engaging-ready",
      "metadata": {
        "id": "engaging-ready"
      },
      "source": [
        "\n",
        "**1.1.4) plot the histogram of y values. Note that the mean of these values is very high and the distribution of the values is far from normal. Create ```y_train_log``` and ```y_test_log``` by applying $log_{y}$. Now plot the new histogram of the obtained values. You should use these log values for the next subtasks.**   "
      ]
    },
    {
      "cell_type": "code",
      "execution_count": null,
      "id": "inclusive-outreach",
      "metadata": {
        "colab": {
          "base_uri": "https://localhost:8080/",
          "height": 553
        },
        "id": "inclusive-outreach",
        "outputId": "d164b5b1-e917-47a8-b148-96d1c1772fca"
      },
      "outputs": [
        {
          "data": {
            "image/png": "[encoded data removed]",
            "text/plain": [
              "<Figure size 432x648 with 2 Axes>"
            ]
          },
          "metadata": {
            "needs_background": "light"
          },
          "output_type": "display_data"
        }
      ],
      "source": [
        "### BEGIN Solution (do not delete this comment)\n",
        "\n",
        "# Plot the histogram of y values\n",
        "y_log = np.log(y)\n",
        "fig, axs = plt.subplots(2, figsize=(6, 9));\n",
        "axs[0].hist(y, bins=100);\n",
        "axs[0].set_title('price_doc');\n",
        "axs[0].grid()\n",
        "\n",
        "# Create log(y_train/test)\n",
        "y_train_log = np.log(y_train);\n",
        "y_test_log = np.log(y_test);\n",
        "\n",
        "# Plot the histogram of y_train_log values\n",
        "axs[1].hist(y_train_log, bins=100);\n",
        "axs[1].set_title('price_doc');\n",
        "axs[1].grid()\n",
        "\n",
        "### END Solution (do not delete this comment)"
      ]
    },
    {
      "cell_type": "markdown",
      "id": "noticed-drunk",
      "metadata": {
        "id": "noticed-drunk"
      },
      "source": [
        "**1.1.5) print the number of features in the created ```x_train``` and ```x_test``` datasets. Answer the question: do you think all of these features are relevant for the adequate price prediction?**\n"
      ]
    },
    {
      "cell_type": "code",
      "execution_count": null,
      "id": "strategic-spending",
      "metadata": {
        "colab": {
          "base_uri": "https://localhost:8080/"
        },
        "id": "strategic-spending",
        "outputId": "f7f13fea-f7fb-48e3-9be9-5ee46d0613ac"
      },
      "outputs": [
        {
          "data": {
            "text/plain": [
              "560"
            ]
          },
          "execution_count": 7,
          "metadata": {},
          "output_type": "execute_result"
        }
      ],
      "source": [
        "### BEGIN Solution (do not delete this comment)\n",
        "\n",
        "len(x_train.columns)\n",
        "\n",
        "### END Solution (do not delete this comment)"
      ]
    },
    {
      "cell_type": "markdown",
      "id": "restricted-anchor",
      "metadata": {
        "id": "restricted-anchor"
      },
      "source": [
        "**Your text answer (do not delete this comment)**:\n",
        "\n",
        "\\<No, the number of features is too high, especially, after we create dummy variables. So, we should do the feature importance and feature selection to find out what features are important for this model.\\>"
      ]
    },
    {
      "cell_type": "markdown",
      "id": "endangered-mineral",
      "metadata": {
        "id": "endangered-mineral"
      },
      "source": [
        "**1.1.6) use random forest to find the importance of the features. Plot the histogram of the importances.**"
      ]
    },
    {
      "cell_type": "code",
      "execution_count": null,
      "id": "residential-tongue",
      "metadata": {
        "colab": {
          "base_uri": "https://localhost:8080/",
          "height": 265
        },
        "id": "residential-tongue",
        "outputId": "e53d3ed8-2dbb-4599-91e4-ba631abd8a0f"
      },
      "outputs": [
        {
          "data": {
            "image/png": "[encoded data removed]",
            "text/plain": [
              "<Figure size 432x288 with 1 Axes>"
            ]
          },
          "metadata": {
            "needs_background": "light"
          },
          "output_type": "display_data"
        }
      ],
      "source": [
        "### BEGIN Solution (do not delete this comment)\n",
        "\n",
        "from sklearn.ensemble import RandomForestRegressor\n",
        "\n",
        "random_forest = RandomForestRegressor(random_state=0)\n",
        "random_forest.fit(x_train, y_train_log)\n",
        "plt.hist(random_forest.feature_importances_, bins=100);\n",
        "\n",
        "### END Solution (do not delete this comment)"
      ]
    },
    {
      "cell_type": "markdown",
      "id": "ethical-firmware",
      "metadata": {
        "id": "ethical-firmware"
      },
      "source": [
        "**1.1.7) print the names of the 20 most important features**"
      ]
    },
    {
      "cell_type": "code",
      "execution_count": null,
      "id": "amazing-marriage",
      "metadata": {
        "colab": {
          "base_uri": "https://localhost:8080/"
        },
        "id": "amazing-marriage",
        "outputId": "db9871bf-b35a-4903-9efe-2bd0fac66ec6"
      },
      "outputs": [
        {
          "name": "stdout",
          "output_type": "stream",
          "text": [
            "Index(['full_sq', 'num_room', 'cafe_count_2000', 'sport_count_3000',\n",
            "       'cafe_count_3000', 'cafe_count_5000_price_2500', 'cafe_count_5000',\n",
            "       'nuclear_reactor_km', 'metro_min_avto', 'micex_cbi_tr', 'ttk_km',\n",
            "       'metro_km_avto', 'floor', 'kindergarten_km',\n",
            "       'cafe_count_5000_price_high', 'micex', 'cemetery_km',\n",
            "       'public_healthcare_km', 'additional_education_km', 'brent'],\n",
            "      dtype='object')\n"
          ]
        }
      ],
      "source": [
        "### BEGIN Solution (do not delete this comment)\n",
        "\n",
        "feature_name = x_train.columns\n",
        "feature_score = pd.DataFrame(columns=['Random Forest'], index=feature_name)\n",
        "feature_score['Random Forest'] = random_forest.feature_importances_.reshape(-1, 1)\n",
        "\n",
        "top_20_feat = feature_score.sort_values(['Random Forest'], ascending=False).head(20)\n",
        "most_imp = top_20_feat.index\n",
        "print(most_imp)\n",
        "\n",
        "### END Solution (do not delete this comment)"
      ]
    },
    {
      "cell_type": "markdown",
      "id": "little-toddler",
      "metadata": {
        "id": "little-toddler"
      },
      "source": [
        "### Subproblem 1.2. Training models on the most important features (1 point)"
      ]
    },
    {
      "cell_type": "markdown",
      "id": "vietnamese-patrick",
      "metadata": {
        "id": "vietnamese-patrick"
      },
      "source": [
        "In this subproblem, you will train several ML models on the found 20 most important features: train **Linear Regression**,  **Ridge regression**, **Random forest**,  **DecisionTree** and evaluate their performance using the Root Mean Squared Logarithmic Error (RMSLE) on both train/test sets. \n",
        "\n",
        "You will have to repeat the same actions in the next tasks too, so we recommend to implement\n",
        "a dedicated function for comparisons, which\n",
        "1. on input takes a training dataset `(X_train, y_train)` and a test sample `(X_test, y_test)`;\n",
        "2. it trains **all of the listed models** on the `(X_train, y_train)` sample;\n",
        "3. it computes and returns a table with the RMSLE score of each fitted model on the train and test datasets."
      ]
    },
    {
      "cell_type": "markdown",
      "id": "stupid-principle",
      "metadata": {
        "id": "stupid-principle"
      },
      "source": [
        "**1.2.1) Implement the function described above**"
      ]
    },
    {
      "cell_type": "code",
      "execution_count": null,
      "id": "paperback-uniform",
      "metadata": {
        "id": "paperback-uniform"
      },
      "outputs": [],
      "source": [
        "### BEGIN Solution (do not delete this comment)\n",
        "\n",
        "from sklearn.linear_model import LinearRegression\n",
        "from sklearn.linear_model import Ridge\n",
        "from sklearn.ensemble import RandomForestRegressor\n",
        "from sklearn.tree import DecisionTreeRegressor\n",
        "from sklearn.metrics import mean_squared_log_error\n",
        "\n",
        "dictionary_model = {'Linear Regression': LinearRegression(), \n",
        "                    'Ridge': Ridge(random_state=0), \n",
        "                    'Dtree': DecisionTreeRegressor(random_state=0), \n",
        "                    'RFR': RandomForestRegressor(random_state=0)}\n",
        "\n",
        "def RMSLE_score(x_train, y_train_log, x_test, y_test_log, dictionary_model):\n",
        "  summary = pd.DataFrame(columns=['Methods', 'Train error', 'Test_error'])\n",
        "\n",
        "  for model_key in dictionary_model:\n",
        "    dictionary_model[model_key].fit(x_train, y_train_log)\n",
        "    y_pred_train = dictionary_model[model_key].predict(x_train)\n",
        "    y_pred_test = dictionary_model[model_key].predict(x_test)\n",
        "\n",
        "    error_train = mean_squared_log_error(y_pred_train, y_train_log)\n",
        "    error_test = mean_squared_log_error(y_pred_test, y_test_log)\n",
        "\n",
        "    summary = summary.append({'Methods': model_key,\n",
        "                              'Train error': error_train,\n",
        "                              'Test_error': error_test}, ignore_index=True)\n",
        "\n",
        "  return summary\n",
        "\n",
        "### END Solution (do not delete this comment)"
      ]
    },
    {
      "cell_type": "markdown",
      "id": "demographic-honolulu",
      "metadata": {
        "id": "demographic-honolulu"
      },
      "source": [
        "**1.2.2) Apply the implemented function to our dataset (use only the 20 most important features)**"
      ]
    },
    {
      "cell_type": "code",
      "execution_count": null,
      "id": "loved-bedroom",
      "metadata": {
        "colab": {
          "base_uri": "https://localhost:8080/",
          "height": 175
        },
        "id": "loved-bedroom",
        "outputId": "3f125274-ebea-4abb-e781-e79bd18260a9"
      },
      "outputs": [
        {
          "data": {
            "text/html": [
              "<div>\n",
              "<style scoped>\n",
              "    .dataframe tbody tr th:only-of-type {\n",
              "        vertical-align: middle;\n",
              "    }\n",
              "\n",
              "    .dataframe tbody tr th {\n",
              "        vertical-align: top;\n",
              "    }\n",
              "\n",
              "    .dataframe thead th {\n",
              "        text-align: right;\n",
              "    }\n",
              "</style>\n",
              "<table border=\"1\" class=\"dataframe\">\n",
              "  <thead>\n",
              "    <tr style=\"text-align: right;\">\n",
              "      <th></th>\n",
              "      <th>Methods</th>\n",
              "      <th>Train error</th>\n",
              "      <th>Test_error</th>\n",
              "    </tr>\n",
              "  </thead>\n",
              "  <tbody>\n",
              "    <tr>\n",
              "      <th>0</th>\n",
              "      <td>Linear Regression</td>\n",
              "      <td>1.046472e-03</td>\n",
              "      <td>0.001035</td>\n",
              "    </tr>\n",
              "    <tr>\n",
              "      <th>1</th>\n",
              "      <td>Ridge</td>\n",
              "      <td>1.046471e-03</td>\n",
              "      <td>0.001035</td>\n",
              "    </tr>\n",
              "    <tr>\n",
              "      <th>2</th>\n",
              "      <td>Dtree</td>\n",
              "      <td>6.231567e-10</td>\n",
              "      <td>0.001689</td>\n",
              "    </tr>\n",
              "    <tr>\n",
              "      <th>3</th>\n",
              "      <td>RFR</td>\n",
              "      <td>1.271727e-04</td>\n",
              "      <td>0.000857</td>\n",
              "    </tr>\n",
              "  </tbody>\n",
              "</table>\n",
              "</div>"
            ],
            "text/plain": [
              "             Methods   Train error  Test_error\n",
              "0  Linear Regression  1.046472e-03    0.001035\n",
              "1              Ridge  1.046471e-03    0.001035\n",
              "2              Dtree  6.231567e-10    0.001689\n",
              "3                RFR  1.271727e-04    0.000857"
            ]
          },
          "execution_count": 13,
          "metadata": {},
          "output_type": "execute_result"
        }
      ],
      "source": [
        "### BEGIN Solution\n",
        "\n",
        "RMSLE_score(x_train[most_imp], y_train_log, x_test[most_imp], y_test_log, dictionary_model)\n",
        "\n",
        "### END Solution"
      ]
    },
    {
      "cell_type": "markdown",
      "id": "6lSOGA4-7RSx",
      "metadata": {
        "id": "6lSOGA4-7RSx"
      },
      "source": [
        "<br>"
      ]
    },
    {
      "cell_type": "markdown",
      "id": "stock-jewel",
      "metadata": {
        "id": "stock-jewel"
      },
      "source": [
        "### Subproblem 1.3. Forward-backward methods (1 point)\n",
        "In the subproblems above, we have relied on the feature importances found by the random forest method. The main goal of this subproblem is to find feature importances by applying the forward-backward methods: the main idea is to add or remove features and compute how this removal influences the value of the loss function or some other criteria.\n",
        "\n",
        "The decision about adding or deleting a feature may be made based on:\n",
        "\n",
        "- AIC\n",
        "- BIC\n",
        "- validation error\n",
        "- Mallows $C_p$\n",
        "- sklearn's `estimator.score()`"
      ]
    },
    {
      "cell_type": "markdown",
      "id": "southern-closer",
      "metadata": {
        "id": "southern-closer"
      },
      "source": [
        "In subtasks, 1.3.1 - 1.3.3, implement the following greedy feature selection algorithm with early stopping using the mean of the RMSLE scores achieved on the 3-fold cross-validation. Please bear in mind that **the lower** RMSLE (`mean_squared_log_error`) is, **the higher the model \"quality\" is** and look up `cross_val_score(...)` peculiarities in [scikit's manual](https://scikit-learn.org/stable/documentation.html) for more information.\n",
        "\n",
        "```python\n",
        "# Initialize with an empty list of features.\n",
        "list_of_best_features = []\n",
        "\n",
        "while round < n_rounds:\n",
        "    round = round + 1\n",
        "    \n",
        "    if no_more_features:\n",
        "        # end loop\n",
        "\n",
        "    # Iterate over currently *unused* features and use $k$-fold \n",
        "    # . `cross_val_score` to measure model \"quality\".\n",
        "    compute_quality_with_each_new_unused_feature(...)\n",
        "\n",
        "    # **Add** the feature that gives the highest \"quality\" of the model.\n",
        "    pick_and_add_the_best_feature(...)\n",
        "\n",
        "    if model_quality_has_increased_since_last_round:\n",
        "        round = 0\n",
        "\n",
        "return list_of_best_features\n",
        "```"
      ]
    },
    {
      "cell_type": "markdown",
      "id": "suffering-italy",
      "metadata": {
        "id": "suffering-italy"
      },
      "source": [
        "**1.3.1) In the cell below, you have to implement a function that would iterate over a list of features and use $k$-fold `cross_val_score` to measure the model's \"quality\".** "
      ]
    },
    {
      "cell_type": "code",
      "execution_count": null,
      "id": "caroline-state",
      "metadata": {
        "id": "caroline-state"
      },
      "outputs": [],
      "source": [
        "from sklearn.metrics import make_scorer\n",
        "\n",
        "def selection_step(model, X, y, used_features=(), cv=3):\n",
        "    \"\"\"\n",
        "    Parameters\n",
        "    ==========\n",
        "        X: ndarray - training inputs\n",
        "        y: ndarray - training targets\n",
        "        used_features: - list of features\n",
        "        cv: int - number of folds\n",
        "\n",
        "    Returns\n",
        "    =======\n",
        "        scores - dictionary of scores\n",
        "    \"\"\"\n",
        "    \n",
        "    scores = {}\n",
        "    \n",
        "    ### BEGIN Solution\n",
        "\n",
        "    used_feat = list(used_features)\n",
        "    data_col = list(X.columns)\n",
        "\n",
        "    for feature in data_col:\n",
        "        if feature not in used_feat:\n",
        "            used_feat.append(feature)\n",
        "            score_mean = cross_val_score(model, X[used_feat], y,\n",
        "                                         scoring=make_scorer(mean_squared_log_error),\n",
        "                                         cv=cv).mean()\n",
        "            scores[feature] = score_mean\n",
        "\n",
        "    ### END Solution\n",
        "\n",
        "    return scores"
      ]
    },
    {
      "cell_type": "markdown",
      "id": "laughing-patio",
      "metadata": {
        "id": "laughing-patio"
      },
      "source": [
        "**1.3.2) Implement a forward greedy feature selection function (the one described in the pseudocode in subtask 1 above) that would**\n",
        "\n",
        "**- compute the model's \"quality\" over the currently *unused* features**\n",
        "\n",
        "**- find the feature, which has given the best score and add it to the list of the currently *used* features**\n",
        "\n",
        "**- if the model's quality has increased since the last round, add this feature to the list of the best features and  print the best score and the current best features list**\n",
        "\n",
        "**Do not forget to implement the early stopping.**"
      ]
    },
    {
      "cell_type": "code",
      "execution_count": null,
      "id": "pressed-worse",
      "metadata": {
        "id": "pressed-worse"
      },
      "outputs": [],
      "source": [
        "def forward_steps(X, y, n_rounds, model):\n",
        "    \"\"\"\n",
        "    Parameters\n",
        "    ==========\n",
        "        X: ndarray - training inputs\n",
        "        y: ndarray - training targets\n",
        "        n_rounds: int - early stop when score doesn't increase n_rounds\n",
        "        model: sklearn model\n",
        "\n",
        "    Returns\n",
        "    =======\n",
        "        feat_best_list - list of features\n",
        "    \"\"\"\n",
        "    \n",
        "    feat_best_list = []\n",
        "\n",
        "    ### BEGIN Solution\n",
        "\n",
        "    last_round_score = np.inf\n",
        "    round = 0\n",
        "\n",
        "    while round < n_rounds:\n",
        "        round = round + 1\n",
        "        if (len(feat_best_list)==len(X.columns)):\n",
        "            break\n",
        "        scores = selection_step(model, X, y, feat_best_list)\n",
        "        best_feature = min(scores, key=scores.get)\n",
        "        feat_best_list.append(best_feature)\n",
        "            \n",
        "        if (scores[best_feature] < last_round_score):\n",
        "            round = 0\n",
        "            last_round_score = scores[best_feature]\n",
        "        \n",
        "    ### END Solution\n",
        "    \n",
        "    return feat_best_list\n"
      ]
    },
    {
      "cell_type": "markdown",
      "id": "geographic-holly",
      "metadata": {
        "id": "geographic-holly"
      },
      "source": [
        "**1.3.3) Use the function implemented above + DecisionTreeRegressor to get the best features according to this algorithm. (HINT: Use ```n_rounds = 2```)**"
      ]
    },
    {
      "cell_type": "code",
      "execution_count": null,
      "id": "hazardous-retirement",
      "metadata": {
        "colab": {
          "base_uri": "https://localhost:8080/",
          "height": 392
        },
        "id": "hazardous-retirement",
        "outputId": "aaf52456-4eb1-4a83-c881-4c76e4a2307d"
      },
      "outputs": [
        {
          "data": {
            "text/plain": [
              "['full_sq', 'life_sq', 'floor']"
            ]
          },
          "execution_count": 48,
          "metadata": {},
          "output_type": "execute_result"
        }
      ],
      "source": [
        "### BEGIN Solution\n",
        "\n",
        "Dtree = DecisionTreeRegressor(random_state=0)\n",
        "feat_to_use = forward_steps(x_train, y_train_log, 2, Dtree)\n",
        "feat_to_use\n",
        "\n",
        "### END Solution"
      ]
    },
    {
      "cell_type": "markdown",
      "id": "contrary-packet",
      "metadata": {
        "id": "contrary-packet"
      },
      "source": [
        "**1.3.4) Use Linear Regression, Ridge regression, Random forest and DecisionTree to get the RMSLE scores using these features. Remember the function you wrote earlier.**"
      ]
    },
    {
      "cell_type": "code",
      "execution_count": null,
      "id": "graduate-tooth",
      "metadata": {
        "colab": {
          "base_uri": "https://localhost:8080/",
          "height": 221
        },
        "id": "graduate-tooth",
        "outputId": "72812408-0c21-4229-ff2d-f29243966f3d"
      },
      "outputs": [
        {
          "data": {
            "text/html": [
              "<div>\n",
              "<style scoped>\n",
              "    .dataframe tbody tr th:only-of-type {\n",
              "        vertical-align: middle;\n",
              "    }\n",
              "\n",
              "    .dataframe tbody tr th {\n",
              "        vertical-align: top;\n",
              "    }\n",
              "\n",
              "    .dataframe thead th {\n",
              "        text-align: right;\n",
              "    }\n",
              "</style>\n",
              "<table border=\"1\" class=\"dataframe\">\n",
              "  <thead>\n",
              "    <tr style=\"text-align: right;\">\n",
              "      <th></th>\n",
              "      <th>Methods</th>\n",
              "      <th>Train error</th>\n",
              "      <th>Test_error</th>\n",
              "    </tr>\n",
              "  </thead>\n",
              "  <tbody>\n",
              "    <tr>\n",
              "      <th>0</th>\n",
              "      <td>Linear Regression</td>\n",
              "      <td>0.001202</td>\n",
              "      <td>0.001173</td>\n",
              "    </tr>\n",
              "    <tr>\n",
              "      <th>1</th>\n",
              "      <td>Ridge</td>\n",
              "      <td>0.001202</td>\n",
              "      <td>0.001173</td>\n",
              "    </tr>\n",
              "    <tr>\n",
              "      <th>2</th>\n",
              "      <td>Dtree</td>\n",
              "      <td>0.000513</td>\n",
              "      <td>0.001511</td>\n",
              "    </tr>\n",
              "    <tr>\n",
              "      <th>3</th>\n",
              "      <td>RFR</td>\n",
              "      <td>0.000571</td>\n",
              "      <td>0.001161</td>\n",
              "    </tr>\n",
              "  </tbody>\n",
              "</table>\n",
              "</div>"
            ],
            "text/plain": [
              "             Methods  Train error  Test_error\n",
              "0  Linear Regression     0.001202    0.001173\n",
              "1              Ridge     0.001202    0.001173\n",
              "2              Dtree     0.000513    0.001511\n",
              "3                RFR     0.000571    0.001161"
            ]
          },
          "execution_count": 49,
          "metadata": {},
          "output_type": "execute_result"
        }
      ],
      "source": [
        "### BEGIN Solution\n",
        "\n",
        "RMSLE_score(x_train[feat_to_use], y_train_log, x_test[feat_to_use], y_test_log, dictionary_model)\n",
        "\n",
        "### END Solution"
      ]
    },
    {
      "cell_type": "markdown",
      "id": "infinite-navigation",
      "metadata": {
        "id": "infinite-navigation"
      },
      "source": [
        "<br>"
      ]
    },
    {
      "cell_type": "markdown",
      "id": "individual-rendering",
      "metadata": {
        "id": "individual-rendering"
      },
      "source": [
        "## Task 2. Multi-Class Classification Strategies (1 point)\n",
        "In this task, you will deal with the multiclass classification problem for the Glass Classification Data. Let's load the dataset."
      ]
    },
    {
      "cell_type": "code",
      "execution_count": null,
      "id": "technical-trader",
      "metadata": {
        "colab": {
          "base_uri": "https://localhost:8080/",
          "height": 144
        },
        "id": "technical-trader",
        "outputId": "d57d8eb7-df60-4a03-a0ae-c4ecef5f2030"
      },
      "outputs": [
        {
          "data": {
            "text/html": [
              "<div>\n",
              "<style scoped>\n",
              "    .dataframe tbody tr th:only-of-type {\n",
              "        vertical-align: middle;\n",
              "    }\n",
              "\n",
              "    .dataframe tbody tr th {\n",
              "        vertical-align: top;\n",
              "    }\n",
              "\n",
              "    .dataframe thead th {\n",
              "        text-align: right;\n",
              "    }\n",
              "</style>\n",
              "<table border=\"1\" class=\"dataframe\">\n",
              "  <thead>\n",
              "    <tr style=\"text-align: right;\">\n",
              "      <th></th>\n",
              "      <th>RI</th>\n",
              "      <th>Na</th>\n",
              "      <th>Mg</th>\n",
              "      <th>Al</th>\n",
              "      <th>Si</th>\n",
              "      <th>K</th>\n",
              "      <th>Ca</th>\n",
              "      <th>Ba</th>\n",
              "      <th>Fe</th>\n",
              "      <th>Type</th>\n",
              "    </tr>\n",
              "  </thead>\n",
              "  <tbody>\n",
              "    <tr>\n",
              "      <th>144</th>\n",
              "      <td>1.51660</td>\n",
              "      <td>12.99</td>\n",
              "      <td>3.18</td>\n",
              "      <td>1.23</td>\n",
              "      <td>72.97</td>\n",
              "      <td>0.58</td>\n",
              "      <td>8.81</td>\n",
              "      <td>0.0</td>\n",
              "      <td>0.24</td>\n",
              "      <td>2</td>\n",
              "    </tr>\n",
              "    <tr>\n",
              "      <th>65</th>\n",
              "      <td>1.52099</td>\n",
              "      <td>13.69</td>\n",
              "      <td>3.59</td>\n",
              "      <td>1.12</td>\n",
              "      <td>71.96</td>\n",
              "      <td>0.09</td>\n",
              "      <td>9.40</td>\n",
              "      <td>0.0</td>\n",
              "      <td>0.00</td>\n",
              "      <td>1</td>\n",
              "    </tr>\n",
              "    <tr>\n",
              "      <th>162</th>\n",
              "      <td>1.52211</td>\n",
              "      <td>14.19</td>\n",
              "      <td>3.78</td>\n",
              "      <td>0.91</td>\n",
              "      <td>71.36</td>\n",
              "      <td>0.23</td>\n",
              "      <td>9.14</td>\n",
              "      <td>0.0</td>\n",
              "      <td>0.37</td>\n",
              "      <td>3</td>\n",
              "    </tr>\n",
              "  </tbody>\n",
              "</table>\n",
              "</div>"
            ],
            "text/plain": [
              "          RI     Na    Mg    Al     Si     K    Ca   Ba    Fe  Type\n",
              "144  1.51660  12.99  3.18  1.23  72.97  0.58  8.81  0.0  0.24     2\n",
              "65   1.52099  13.69  3.59  1.12  71.96  0.09  9.40  0.0  0.00     1\n",
              "162  1.52211  14.19  3.78  0.91  71.36  0.23  9.14  0.0  0.37     3"
            ]
          },
          "execution_count": 51,
          "metadata": {},
          "output_type": "execute_result"
        }
      ],
      "source": [
        "data = pd.read_csv('glass.csv')\n",
        "X, y = data.drop('Type', axis=1), data.Type\n",
        "data.sample(3)"
      ]
    },
    {
      "cell_type": "markdown",
      "id": "flying-region",
      "metadata": {
        "id": "flying-region"
      },
      "source": [
        "The features of each glass object correspond to the fraction of the particular chemical element in the object. The target variable corresponds to the type of glass (6 classes).\n",
        "\n",
        "In this problem, you have to empirically compare the time complexity and performance of several multiclass labeling strategies for different algorithms. You must consider the following algorithms:\n",
        "* Single Decision Tree (depth 7)\n",
        "* Medium Random Forest (100 trees of depth 3)\n",
        "* KNearestNeighbors (5 neighbors)\n",
        "* Logistic Regression\n",
        "\n",
        "Note that all these algorithms by default support **multiclass labeling**. Nevertheless, we want you to compare this approach with **OneVSRest** and **OneVSOne** approaches applied to these algorithms. More precisely, for every pair (algorithm, approach) you are to perform a 5-fold cross-validation on the data and output the validation score and the computation time in the **table** form. Please note that you also have to choose the metric to optimize during CV (e.g. accuracy, balanced accuracy) on your own. \n",
        "\n",
        "After that, you are to answer the following questions:\n",
        "* Which metric did you choose to optimize during cross-validation and why? Explain\n",
        "* For which algorithms the usage of OneVSRest/OneVSOne approach provides significantly better performance without a significant increase in computation time?"
      ]
    },
    {
      "cell_type": "code",
      "execution_count": null,
      "id": "authentic-slope",
      "metadata": {
        "colab": {
          "base_uri": "https://localhost:8080/",
          "height": 306
        },
        "id": "authentic-slope",
        "outputId": "843c9d89-8b4f-40b5-f306-8321e92bcdb5"
      },
      "outputs": [
        {
          "name": "stdout",
          "output_type": "stream",
          "text": [
            "Cross Validation Scores\n"
          ]
        },
        {
          "data": {
            "text/html": [
              "<div>\n",
              "<style scoped>\n",
              "    .dataframe tbody tr th:only-of-type {\n",
              "        vertical-align: middle;\n",
              "    }\n",
              "\n",
              "    .dataframe tbody tr th {\n",
              "        vertical-align: top;\n",
              "    }\n",
              "\n",
              "    .dataframe thead th {\n",
              "        text-align: right;\n",
              "    }\n",
              "</style>\n",
              "<table border=\"1\" class=\"dataframe\">\n",
              "  <thead>\n",
              "    <tr style=\"text-align: right;\">\n",
              "      <th></th>\n",
              "      <th>Logistic</th>\n",
              "      <th>Random Forest</th>\n",
              "      <th>K Nearest Neighbors</th>\n",
              "      <th>Dtree</th>\n",
              "    </tr>\n",
              "  </thead>\n",
              "  <tbody>\n",
              "    <tr>\n",
              "      <th>Multiclass</th>\n",
              "      <td>0.506987</td>\n",
              "      <td>0.577896</td>\n",
              "      <td>0.433805</td>\n",
              "      <td>0.609343</td>\n",
              "    </tr>\n",
              "    <tr>\n",
              "      <th>OneVsRest</th>\n",
              "      <td>0.458502</td>\n",
              "      <td>0.541599</td>\n",
              "      <td>0.513805</td>\n",
              "      <td>0.548199</td>\n",
              "    </tr>\n",
              "    <tr>\n",
              "      <th>OneVsOne</th>\n",
              "      <td>0.451987</td>\n",
              "      <td>0.599579</td>\n",
              "      <td>0.405589</td>\n",
              "      <td>0.645404</td>\n",
              "    </tr>\n",
              "  </tbody>\n",
              "</table>\n",
              "</div>"
            ],
            "text/plain": [
              "            Logistic  Random Forest  K Nearest Neighbors     Dtree\n",
              "Multiclass  0.506987       0.577896             0.433805  0.609343\n",
              "OneVsRest   0.458502       0.541599             0.513805  0.548199\n",
              "OneVsOne    0.451987       0.599579             0.405589  0.645404"
            ]
          },
          "metadata": {},
          "output_type": "display_data"
        },
        {
          "name": "stdout",
          "output_type": "stream",
          "text": [
            "Training Duration (CV=5)\n"
          ]
        },
        {
          "data": {
            "text/html": [
              "<div>\n",
              "<style scoped>\n",
              "    .dataframe tbody tr th:only-of-type {\n",
              "        vertical-align: middle;\n",
              "    }\n",
              "\n",
              "    .dataframe tbody tr th {\n",
              "        vertical-align: top;\n",
              "    }\n",
              "\n",
              "    .dataframe thead th {\n",
              "        text-align: right;\n",
              "    }\n",
              "</style>\n",
              "<table border=\"1\" class=\"dataframe\">\n",
              "  <thead>\n",
              "    <tr style=\"text-align: right;\">\n",
              "      <th></th>\n",
              "      <th>Logistic</th>\n",
              "      <th>Random Forest</th>\n",
              "      <th>K Nearest Neighbors</th>\n",
              "      <th>Dtree</th>\n",
              "    </tr>\n",
              "  </thead>\n",
              "  <tbody>\n",
              "    <tr>\n",
              "      <th>Multiclass</th>\n",
              "      <td>0.250072</td>\n",
              "      <td>0.949832</td>\n",
              "      <td>0.062524</td>\n",
              "      <td>0.031259</td>\n",
              "    </tr>\n",
              "    <tr>\n",
              "      <th>OneVsRest</th>\n",
              "      <td>5.370267</td>\n",
              "      <td>3.011624</td>\n",
              "      <td>0.140669</td>\n",
              "      <td>0.166751</td>\n",
              "    </tr>\n",
              "    <tr>\n",
              "      <th>OneVsOne</th>\n",
              "      <td>1.095507</td>\n",
              "      <td>7.155243</td>\n",
              "      <td>0.470419</td>\n",
              "      <td>0.346867</td>\n",
              "    </tr>\n",
              "  </tbody>\n",
              "</table>\n",
              "</div>"
            ],
            "text/plain": [
              "            Logistic  Random Forest  K Nearest Neighbors     Dtree\n",
              "Multiclass  0.250072       0.949832             0.062524  0.031259\n",
              "OneVsRest   5.370267       3.011624             0.140669  0.166751\n",
              "OneVsOne    1.095507       7.155243             0.470419  0.346867"
            ]
          },
          "metadata": {},
          "output_type": "display_data"
        }
      ],
      "source": [
        "### BEGIN Solution (do not delete this comment)\n",
        "\n",
        "from sklearn.linear_model import LogisticRegression\n",
        "from sklearn.ensemble import RandomForestClassifier\n",
        "from sklearn.neighbors import KNeighborsClassifier\n",
        "from sklearn.tree import DecisionTreeClassifier\n",
        "\n",
        "from sklearn.multiclass import OneVsRestClassifier\n",
        "from sklearn.multiclass import OneVsOneClassifier\n",
        "from sklearn.base import clone\n",
        "from sklearn.model_selection import cross_val_score\n",
        "import time\n",
        "\n",
        "train_X, test_X, train_y, test_y = train_test_split(X, y, test_size=0.3, random_state=0, stratify=y)\n",
        "\n",
        "dict_model = { 'Logistic': LogisticRegression(random_state=0), \n",
        "              'Random Forest': RandomForestClassifier(n_estimators=100, max_depth=3, random_state=0),\n",
        "              'K Nearest Neighbors': KNeighborsClassifier(n_neighbors=5),\n",
        "              'Dtree': DecisionTreeClassifier(max_depth=7, random_state=0)}\n",
        "\n",
        "list_cv_score_0 = []\n",
        "list_time_0 = []\n",
        "\n",
        "list_cv_score_1 = []\n",
        "list_time_1 = []\n",
        "\n",
        "list_cv_score_2 = []\n",
        "list_time_2 = []\n",
        "\n",
        "for model_key in dict_model:\n",
        "    index_model = dict_model[model_key]\n",
        "    OneVsRest = OneVsRestClassifier(clone(index_model), n_jobs=-1)   \n",
        "    OneVsOne = OneVsOneClassifier(clone(index_model), n_jobs=-1)\n",
        "    \n",
        "    # Multiclass\n",
        "    start_0 = time.time()\n",
        "    score_mean_0 = cross_val_score(index_model, train_X, train_y, scoring='balanced_accuracy', cv=5).mean()\n",
        "    end_0 = time.time()\n",
        "    run_time_0 = end_0 - start_0\n",
        "    list_cv_score_0.append(score_mean_0)\n",
        "    list_time_0.append(run_time_0) \n",
        "    \n",
        "    # OneVsRest\n",
        "    start_1 = time.time()\n",
        "    score_mean_1 = cross_val_score(OneVsRest, train_X, train_y, scoring='balanced_accuracy', cv=5).mean()\n",
        "    end_1 = time.time()\n",
        "    run_time_1 = end_1 - start_1\n",
        "    list_cv_score_1.append(score_mean_1)\n",
        "    list_time_1.append(run_time_1) \n",
        "    \n",
        "    # OneVsOne\n",
        "    start_2 = time.time()\n",
        "    score_mean_2 = cross_val_score(OneVsOne, train_X, train_y, scoring='balanced_accuracy', cv=5).mean()\n",
        "    end_2 = time.time()\n",
        "    run_time_2 = end_2 - start_2\n",
        "    list_cv_score_2.append(score_mean_2)\n",
        "    list_time_2.append(run_time_2) \n",
        "\n",
        "summary_cv_score = pd.DataFrame(data=[list_cv_score_0, list_cv_score_1, list_cv_score_2],\n",
        "                                index=['Multiclass', 'OneVsRest', 'OneVsOne'],\n",
        "                                columns=[k for k, v in dict_model.items()])\n",
        "\n",
        "summary_cv_time = pd.DataFrame(data=[list_time_0, list_time_1, list_time_2],\n",
        "                               index=['Multiclass', 'OneVsRest', 'OneVsOne'],\n",
        "                               columns=[k for k, v in dict_model.items()])\n",
        "\n",
        "print('Cross Validation Scores')\n",
        "display(summary_cv_score)\n",
        "\n",
        "print('Training Duration (CV=5)')\n",
        "display(summary_cv_time)\n",
        "\n",
        "### END Solution (do not delete this comment)"
      ]
    },
    {
      "cell_type": "markdown",
      "id": "married-preserve",
      "metadata": {
        "id": "married-preserve"
      },
      "source": [
        "**Which metric did you choose to optimize during cross validation and why? Explain**"
      ]
    },
    {
      "cell_type": "markdown",
      "id": "dutch-alfred",
      "metadata": {
        "id": "dutch-alfred"
      },
      "source": [
        "**Your text answer (do not delete this comment)**:\n",
        "\n",
        "\\<I will choose Decision Tree with multiclass because it provides a good score with the fastest training duration time. Although Decision Tree with OneVsOne is the highest score but it takes a long time than Decision Tree with multiclassใ\\>"
      ]
    },
    {
      "cell_type": "markdown",
      "id": "elect-jerusalem",
      "metadata": {
        "id": "elect-jerusalem"
      },
      "source": [
        "**For which algorithms the usage of OneVSRest/OneVSOne approach provides significantly better performance without a significant increase in computation time?**"
      ]
    },
    {
      "cell_type": "markdown",
      "id": "CH04Ord57RS4",
      "metadata": {
        "id": "CH04Ord57RS4"
      },
      "source": [
        "**Your text answer (do not delete this comment)**:\n",
        "\n",
        "\\<In this case, Random Forest with OneVsOne, K-Nearest Neighbors with OneVsRest, ans Decision Tree with OneVsOne provide significantly better performance but all models significantly increase in computation time.\\>"
      ]
    },
    {
      "cell_type": "markdown",
      "id": "electric-matthew",
      "metadata": {
        "id": "electric-matthew"
      },
      "source": [
        "# Task 3. Stacking (2 points)"
      ]
    },
    {
      "cell_type": "markdown",
      "id": "third-liverpool",
      "metadata": {
        "id": "third-liverpool"
      },
      "source": [
        "Stacking is an ensembling approach, which combines several algorithms (base models) to get better results. This is achieved by **a)** training the base models (any ML models) on the initial train data (or parts of the train data, see the paragraph below), **b)** training the meta-model (also an ML model) on the predictions of those base models.\n",
        "\n",
        "One of the main problems of stacking is overfitting. To avoid it, when evaluating the performance of the meta-model on the train set, the training data is divided into $ n $ folds, $ (n-1) $ of which are used for training the base models. The $ n $ -th fold is used for the overall prediction (calculating the meta-factor) in the following manner: the predictions on the $ n $ -th fold are made by the base models (already trained on the rest of the dataset), then these predictions on the $ n $ -th fold are fed as inputs to the meta-model.\n",
        "\n",
        "When evaluating the performance of the meta-model on the test set, there can be used various approaches$.^{[1]}$ For example, in order, to obtain meta-factors for the test data, the base classifiers can be retrained on the entire training set, since the problem of overfitting does not arise here. In other words, if we want to calculate the factors for the test set, we can safely use the training set to train the base classifiers (once again, as it is said in the paragraph above, if we want to calculate factors for the training set, then it is necessary to ensure that the classifier does not predict for those objects on which it has been trained).  \n",
        "\n",
        "You can read more details about stacking [blockpost](https://blog.statsbot.co/ensemble-learning-d1dcd548e936), [kaggle ensemble guide](https://mlwave.com/kaggle-ensembling-guide/).\n",
        "\n",
        "P.S. Stacking and Blending are two similar approaches to combining classifiers (ensembling). The difference is that Stacking uses out-of-fold predictions for the train set, and Blending uses a validation set to train the next layer ([source](quora.com/What-are-examples-of-blending-and-stacking-in-Machine-Learning)). Because they are so similar you can use any of them. \n",
        "\n",
        "[1] http://www.machinelearning.ru/wiki/images/5/56/Guschin2015Stacking.pdf  "
      ]
    },
    {
      "cell_type": "markdown",
      "id": "recognized-guest",
      "metadata": {
        "id": "recognized-guest"
      },
      "source": [
        "**Your task will be:**\n",
        "\n",
        "* Complete the ```meta_classfier``` function\n",
        "* Choose 6 different base models (base models can be any models that you know, and can differ between each other by different hyperparameters, models of ml, features e.t.c) and train them.\n",
        "* Report individual accuracy on the test set for each of the models.\n",
        "* Train the metaclassifier (in this case, once again, it is just an ML model) on the original dataset's features, report score on test.\n",
        "* Train the metaclassifier on the base models using $n$-fold cross-validation, as described above. Report the training score of the meta-classifier on the $ n $-th fold. Retrain the base models on the whole training set. Report the test score (accuracy) of the meta-classifier in this case.\n",
        "* Does stacking help to gain a better score?"
      ]
    },
    {
      "cell_type": "markdown",
      "id": "incident-ceremony",
      "metadata": {
        "id": "incident-ceremony"
      },
      "source": [
        "For this task we will use the dataset fetch_covertype from [sklearn](https://scikit-learn.org/stable/modules/generated/sklearn.datasets.fetch_covtype.html#sklearn.datasets.fetch_covtype). Split it train-test - 60/40.\n",
        "More details about this dataset you can find [here](https://archive.ics.uci.edu/ml/datasets/Covertype)"
      ]
    },
    {
      "cell_type": "code",
      "execution_count": 3,
      "id": "banner-input",
      "metadata": {
        "id": "banner-input"
      },
      "outputs": [],
      "source": [
        "from sklearn import datasets\n",
        "fc = sklearn.datasets.fetch_covtype()"
      ]
    },
    {
      "cell_type": "markdown",
      "id": "collected-flash",
      "metadata": {
        "id": "collected-flash"
      },
      "source": [
        "Write meta classifier function."
      ]
    },
    {
      "cell_type": "code",
      "execution_count": 27,
      "id": "brilliant-greensboro",
      "metadata": {
        "id": "brilliant-greensboro"
      },
      "outputs": [],
      "source": [
        "def meta_classifier(base_clfs, final_classifier, X_train, X_test, y_train, cv):\n",
        "    \"\"\"\n",
        "    Meta classifier prediction using stacking. \n",
        "    Input:\n",
        "    :param base_clfs: list,  base classifiers which will be stacked together.\n",
        "    :param final_classifier: estimator, a classifier which will be used to combine the base estimators. \n",
        "    :param X_train: numpy array or pandas table, train set.\n",
        "    :param X_test: numpy array or pandas table, target for train set.\n",
        "    :param X_train: numpy array or pandas table, test set.\n",
        "    :param cv: number of cross-validation folds.\n",
        "    \n",
        "    Output:\n",
        "    :param y_pred: numpy array or pandas table, prediction of meta classifier using stacking on test set.\n",
        "    :param final_classifier(optional): estimator, trained final_calssifier.\n",
        "    \n",
        "    \n",
        "    More details https://scikit-learn.org/stable/modules/generated/sklearn.ensemble.StackingClassifier.html\n",
        "    \n",
        "    \"\"\"\n",
        "    ### BEGIN Solution (do not delete this comment)\n",
        "\n",
        "    from sklearn.model_selection import cross_val_predict\n",
        "    \n",
        "    train_meta_all = []\n",
        "    test_meta_all = []\n",
        "    \n",
        "    for alg in base_clfs:\n",
        "        train_meta = cross_val_predict(alg, X_train, y_train, cv=cv)\n",
        "        train_meta_all.append(train_meta)\n",
        "        alg.fit(X_train, y_train)\n",
        "        test_meta_all.append(alg.predict(X_test))\n",
        "\n",
        "    train_meta_all = np.vstack(train_meta_all).T\n",
        "    test_meta_all = np.vstack(test_meta_all).T\n",
        "\n",
        "    final_classifier.fit(train_meta_all, y_train)\n",
        "    y_pred_train = final_classifier.predict(train_meta_all)\n",
        "\n",
        "    y_pred = final_classifier.predict(test_meta_all)\n",
        "    \n",
        "    return y_pred, y_pred_train\n",
        " \n",
        "    ### END Solution (do not delete this comment)\n",
        "    "
      ]
    },
    {
      "cell_type": "markdown",
      "id": "vfZmdicwORxq",
      "metadata": {
        "id": "vfZmdicwORxq"
      },
      "source": [
        "### Subproblem 3.1 (1 point)"
      ]
    },
    {
      "cell_type": "markdown",
      "id": "incredible-wichita",
      "metadata": {
        "id": "incredible-wichita"
      },
      "source": [
        "**3.1.1) Chose 6 different base models (base models can be any models that you know,and can differ with each other by different hyperparameters,  models of ml, features e.t.c) and train them.**"
      ]
    },
    {
      "cell_type": "code",
      "execution_count": 13,
      "id": "cleared-supply",
      "metadata": {
        "id": "cleared-supply"
      },
      "outputs": [],
      "source": [
        "### BEGIN Solution (do not delete this comment)\n",
        "\n",
        "from sklearn.linear_model import LogisticRegression\n",
        "from sklearn.ensemble import RandomForestClassifier\n",
        "from sklearn.neighbors import KNeighborsClassifier\n",
        "from sklearn.tree import DecisionTreeClassifier\n",
        "\n",
        "from sklearn.multiclass import OneVsRestClassifier\n",
        "from sklearn.multiclass import OneVsOneClassifier\n",
        "from sklearn.base import clone\n",
        "from sklearn.model_selection import cross_val_score\n",
        "import time\n",
        "from sklearn.metrics import accuracy_score\n",
        "\n",
        "X = fc.data\n",
        "y = fc.target\n",
        "X_train, X_test, y_train, y_test = train_test_split(X, y, test_size=0.4, random_state=0)\n",
        "\n",
        "# Base models\n",
        "clf_1 = DecisionTreeClassifier(max_depth=5, random_state=0)\n",
        "clf_2 = DecisionTreeClassifier(max_depth=7, random_state=0)\n",
        "clf_3 = DecisionTreeClassifier(max_depth=9, random_state=0)\n",
        "clf_4 = DecisionTreeClassifier(max_depth=11, random_state=0)\n",
        "clf_5 = DecisionTreeClassifier(max_depth=13, random_state=0)\n",
        "clf_6 = DecisionTreeClassifier(max_depth=13, min_samples_split=10, random_state=0)\n",
        "\n",
        "# Train models\n",
        "clf_1.fit(X_train, y_train)    \n",
        "y_pred_clf_1 = clf_1.predict(X_test)\n",
        "\n",
        "clf_2.fit(X_train, y_train)    \n",
        "y_pred_clf_2 = clf_2.predict(X_test)\n",
        "\n",
        "clf_3.fit(X_train, y_train)    \n",
        "y_pred_clf_3 = clf_3.predict(X_test)\n",
        "\n",
        "clf_4.fit(X_train, y_train)    \n",
        "y_pred_clf_4 = clf_4.predict(X_test)\n",
        "\n",
        "clf_5.fit(X_train, y_train)    \n",
        "y_pred_clf_5 = clf_5.predict(X_test)\n",
        "\n",
        "clf_6.fit(X_train, y_train)    \n",
        "y_pred_clf_6 = clf_6.predict(X_test)\n",
        "\n",
        "### END Solution (do not delete this comment)"
      ]
    },
    {
      "cell_type": "markdown",
      "id": "01aa6f0b",
      "metadata": {
        "id": "01aa6f0b"
      },
      "source": [
        "**3.1.2) Report individual scores on test set. As a score use accuracy.**"
      ]
    },
    {
      "cell_type": "code",
      "execution_count": 39,
      "id": "standing-breakdown",
      "metadata": {
        "id": "standing-breakdown",
        "colab": {
          "base_uri": "https://localhost:8080/"
        },
        "outputId": "2b248b77-743d-424d-d39c-a8014e54f3d3"
      },
      "outputs": [
        {
          "output_type": "stream",
          "name": "stdout",
          "text": [
            "Accuracy score of 1-st model =  0.7026139713001012\n",
            "Accuracy score of 2-nd model =  0.7283535207934425\n",
            "Accuracy score of 3-rd model =  0.7632193799617047\n",
            "Accuracy score of 4-th model =  0.7928013596953594\n",
            "Accuracy score of 5-th model =  0.8235666186183602\n",
            "Accuracy score of 6-th model =  0.8229297992728212\n"
          ]
        }
      ],
      "source": [
        "### BEGIN Solution (do not delete this comment)\n",
        "\n",
        "print('Accuracy score of 1-st model = ', accuracy_score(y_test, y_pred_clf_1))\n",
        "print('Accuracy score of 2-nd model = ', accuracy_score(y_test, y_pred_clf_2))\n",
        "print('Accuracy score of 3-rd model = ', accuracy_score(y_test, y_pred_clf_3))\n",
        "print('Accuracy score of 4-th model = ', accuracy_score(y_test, y_pred_clf_4))\n",
        "print('Accuracy score of 5-th model = ', accuracy_score(y_test, y_pred_clf_5))\n",
        "print('Accuracy score of 6-th model = ', accuracy_score(y_test, y_pred_clf_6))\n",
        "\n",
        "### END Solution (do not delete this comment)"
      ]
    },
    {
      "cell_type": "markdown",
      "id": "8CsZdyGPOj6E",
      "metadata": {
        "id": "8CsZdyGPOj6E"
      },
      "source": [
        "### Subproblem 3.2 (1 point)"
      ]
    },
    {
      "cell_type": "markdown",
      "id": "adolescent-street",
      "metadata": {
        "id": "adolescent-street"
      },
      "source": [
        "**3.2.1) Train metaclassifier (in this case, once again, it is just an ML model) on original dataset's features. And report score on test.**"
      ]
    },
    {
      "cell_type": "code",
      "execution_count": 41,
      "id": "renewable-concrete",
      "metadata": {
        "id": "renewable-concrete",
        "colab": {
          "base_uri": "https://localhost:8080/"
        },
        "outputId": "581cb5c8-29ce-45b6-a2e3-3fe2a02e49e9"
      },
      "outputs": [
        {
          "output_type": "stream",
          "name": "stdout",
          "text": [
            "Accuracy score of final classifier =  0.8485316580968568\n"
          ]
        }
      ],
      "source": [
        "### BEGIN Solution (do not delete this comment)\n",
        "\n",
        "final_classifier = DecisionTreeClassifier(max_depth=15, random_state=0)\n",
        "\n",
        "final_classifier.fit(X_train, y_train)\n",
        "y_pred_final = final_classifier.predict(X_test)\n",
        "\n",
        "print('Accuracy score of final classifier = ', accuracy_score(y_test, y_pred_final))\n",
        "\n",
        "### END Solution (do not delete this comment)"
      ]
    },
    {
      "cell_type": "markdown",
      "id": "horizontal-wallace",
      "metadata": {
        "id": "horizontal-wallace"
      },
      "source": [
        "**3.2.2) Train the metaclassifier on the base models using $n$-fold cross-validation, as described above. Report the training score of the meta-classifier on the $ n $-th fold. Retrain the base models on the whole training set. Report the test score (accuracy) of the meta-classifier in this case.**"
      ]
    },
    {
      "cell_type": "code",
      "execution_count": 42,
      "id": "lesbian-fields",
      "metadata": {
        "id": "lesbian-fields",
        "colab": {
          "base_uri": "https://localhost:8080/"
        },
        "outputId": "1e8ee8ef-b0c7-48f4-e0cd-34e9a2e7497c"
      },
      "outputs": [
        {
          "output_type": "stream",
          "name": "stdout",
          "text": [
            "Training score of the meta-classifier =  0.822892254028175\n",
            "Test score of the meta-classifier =  0.8228996794389105\n"
          ]
        }
      ],
      "source": [
        "### BEGIN Solution (do not delete this comment)\n",
        "from sklearn.metrics import accuracy_score\n",
        "\n",
        "base_clfs = [clf_1, clf_2, clf_3, clf_4, clf_5, clf_6]\n",
        "final_classifier = DecisionTreeClassifier(max_depth=15, random_state=0)\n",
        "\n",
        "y_prediction, y_prediction_train = meta_classifier(base_clfs, final_classifier, X_train, X_test, y_train, 6)\n",
        "\n",
        "print('Training score of the meta-classifier = ', accuracy_score(y_train, y_prediction_train))\n",
        "print('Test score of the meta-classifier = ', accuracy_score(y_test, y_prediction))\n",
        "\n",
        "### END Solution (do not delete this comment)"
      ]
    },
    {
      "cell_type": "markdown",
      "id": "printable-premium",
      "metadata": {
        "id": "printable-premium"
      },
      "source": [
        "**3.2.3) Report score(accuracy) on test.**"
      ]
    },
    {
      "cell_type": "code",
      "execution_count": 43,
      "id": "auburn-easter",
      "metadata": {
        "id": "auburn-easter",
        "colab": {
          "base_uri": "https://localhost:8080/"
        },
        "outputId": "2ac9f800-efe3-4c0b-aab6-650b8cd7d81c"
      },
      "outputs": [
        {
          "output_type": "execute_result",
          "data": {
            "text/plain": [
              "0.8228996794389105"
            ]
          },
          "metadata": {},
          "execution_count": 43
        }
      ],
      "source": [
        "### BEGIN Solution (do not delete this comment)\n",
        "\n",
        "accuracy_score(y_test, y_prediction)\n",
        "\n",
        "### END Solution (do not delete this comment)"
      ]
    },
    {
      "cell_type": "markdown",
      "id": "premier-scout",
      "metadata": {
        "id": "premier-scout"
      },
      "source": [
        "**3.2.4) Does stacking helped to gain a better score?**"
      ]
    },
    {
      "cell_type": "markdown",
      "id": "vSV5hJFR7RS-",
      "metadata": {
        "id": "vSV5hJFR7RS-"
      },
      "source": [
        "**Your text answer (do not delete this comment)**:\n",
        "\n",
        "\\<Stacking seem to be helpful since the test score is higher than train score. But when we look into individual classification, the overall score is less than using only final classification. This may be the effect of using all classifications as Decision Tree(for fast running). If the base models and final classification in meta classifier function have the different clasificasions, the score should be better. \\>"
      ]
    },
    {
      "cell_type": "code",
      "execution_count": null,
      "id": "offensive-parts",
      "metadata": {
        "id": "offensive-parts"
      },
      "outputs": [],
      "source": [
        ""
      ]
    }
  ],
  "metadata": {
    "colab": {
      "collapsed_sections": [],
      "name": "ML2022HW02_part1 _Waralak.ipynb",
      "provenance": []
    },
    "kernelspec": {
      "display_name": "Python 3",
      "language": "python",
      "name": "python3"
    },
    "language_info": {
      "codemirror_mode": {
        "name": "ipython",
        "version": 3
      },
      "file_extension": ".py",
      "mimetype": "text/x-python",
      "name": "python",
      "nbconvert_exporter": "python",
      "pygments_lexer": "ipython3",
      "version": "3.8.8"
    }
  },
  "nbformat": 4,
  "nbformat_minor": 5
}